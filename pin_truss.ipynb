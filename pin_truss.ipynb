{
 "cells": [
  {
   "cell_type": "code",
   "execution_count": 28,
   "metadata": {},
   "outputs": [],
   "source": [
    "import numpy as np\n",
    "import matplotlib.pyplot as plt"
   ]
  },
  {
   "cell_type": "code",
   "execution_count": 29,
   "metadata": {},
   "outputs": [
    {
     "data": {
      "image/png": "[encoded data removed]",
      "text/plain": [
       "<Figure size 432x288 with 1 Axes>"
      ]
     },
     "metadata": {
      "needs_background": "light"
     },
     "output_type": "display_data"
    }
   ],
   "source": [
    "# --- Mesh definition ---\n",
    "# Defining a truss manually\n",
    "\n",
    "nodes = np.array([\n",
    "    [0, 0],\n",
    "    [0, 1],\n",
    "    [1, 0],\n",
    "    [1, 1],\n",
    "    [2, 0],\n",
    "    [2, 1]\n",
    "])\n",
    "\n",
    "elems = np.array([\n",
    "    [0, 2],\n",
    "    [1, 2],\n",
    "    [1, 3],\n",
    "    [2, 3],\n",
    "    [2, 4],\n",
    "    [3, 4],\n",
    "    [3, 5],\n",
    "    [4, 5]\n",
    "])\n",
    "\n",
    "def plot(nodes, elems, c):\n",
    "    '''Plot nodes and elements'''\n",
    "    plt.plot(nodes[:, 0], nodes[:, 1], 'o'+c)\n",
    "    for elem in elems:\n",
    "        pair = np.array([nodes[elem[0]], nodes[elem[1]]])\n",
    "        plt.plot(pair[:, 0], pair[:, 1], '-'+c)\n",
    "\n",
    "plot(nodes, elems, 'b')\n",
    "plt.show()"
   ]
  },
  {
   "cell_type": "code",
   "execution_count": 30,
   "metadata": {},
   "outputs": [
    {
     "name": "stdout",
     "output_type": "stream",
     "text": [
      "[[ 0.53  0.85 -0.85 -0.53]\n",
      " [-0.53 -0.85  0.85  0.53]]\n"
     ]
    }
   ],
   "source": [
    "# --- Element specific stiffness matrix formulation ---\n",
    "# Method of weighted residuals generalises this\n",
    "\n",
    "dof = 2 # Node dof\n",
    "\n",
    "def rot(cos_t, sin_t) -> np.ndarray:\n",
    "    '''Returns rotation matrix for bar element'''\n",
    "    return np.array([\n",
    "        [cos_t, sin_t, 0, 0],\n",
    "        [0, 0, sin_t, cos_t]\n",
    "        ])\n",
    "\n",
    "# Element stiffness matrix in local coordinate system\n",
    "K_loc = np.array([\n",
    "    [1, -1],\n",
    "    [-1, 1]\n",
    "])\n",
    "\n",
    "print(np.round(K_loc@rot(np.cos(45), np.sin(45)), 2))"
   ]
  },
  {
   "cell_type": "code",
   "execution_count": 31,
   "metadata": {},
   "outputs": [
    {
     "name": "stdout",
     "output_type": "stream",
     "text": [
      "[[ 1.    0.    0.    0.    0.   -1.    0.    0.    0.    0.    0.    0.  ]\n",
      " [ 0.    0.    0.    0.    0.    0.    0.    0.    0.    0.    0.    0.  ]\n",
      " [ 0.    0.    1.35 -0.35  0.35 -0.35  0.   -1.    0.    0.    0.    0.  ]\n",
      " [ 0.    0.   -0.35  0.35 -0.35  0.35  0.    0.    0.    0.    0.    0.  ]\n",
      " [ 0.    0.    0.35 -0.35  1.35 -0.35  0.    0.    0.   -1.    0.    0.  ]\n",
      " [-1.    0.   -0.35  0.35 -0.35  2.35 -1.    0.    0.    0.    0.    0.  ]\n",
      " [ 0.    0.    0.    0.    0.   -1.    2.35 -0.35  0.35 -0.35  0.   -1.  ]\n",
      " [ 0.    0.   -1.    0.    0.    0.   -0.35  1.35 -0.35  0.35  0.    0.  ]\n",
      " [ 0.    0.    0.    0.    0.    0.    0.35 -0.35  0.35 -0.35  0.    0.  ]\n",
      " [ 0.    0.    0.    0.   -1.    0.   -0.35  0.35 -0.35  2.35 -1.    0.  ]\n",
      " [ 0.    0.    0.    0.    0.    0.    0.    0.    0.   -1.    1.    0.  ]\n",
      " [ 0.    0.    0.    0.    0.    0.   -1.    0.    0.    0.    0.    1.  ]]\n"
     ]
    }
   ],
   "source": [
    "# --- System Assembly ---\n",
    "\n",
    "A, E = 1, 1\n",
    "\n",
    "gdof = dof*len(nodes)\n",
    "K_glob = np.zeros((gdof, gdof)) # Global stiffness matrix\n",
    "\n",
    "for elem in elems:\n",
    "\n",
    "    v = nodes[elem][0] - nodes[elem][1] # Vector between nodes of element\n",
    "    L = np.linalg.norm(v) # Norm \n",
    "    c = v[0]/L # cos(theta)\n",
    "    s = v[1]/L # sin(theta)\n",
    "\n",
    "    rot_elem = rot(c, s)\n",
    "    k_elem_glob = (1/L) * rot_elem.T@K_loc@rot_elem # Element stiffness matrix in global coordinate system\n",
    "\n",
    "    # Distribute element stiffness matrix onto corresponding notes in global stiffness matrix\n",
    "    for a, i in enumerate(elem):\n",
    "        for b, j in enumerate(elem):\n",
    "            K_glob[dof*i:dof*(i+1), dof*j:dof*(j+1)] += k_elem_glob[dof*a:dof*(a+1), dof*b:dof*(b+1)]\n",
    "\n",
    "    K_glob *= A*E # Assuming bars have same cross sectional area and Young's modulus\n",
    "\n",
    "print(np.round((K_glob), 2))"
   ]
  },
  {
   "cell_type": "code",
   "execution_count": 32,
   "metadata": {},
   "outputs": [
    {
     "data": {
      "image/png": "[encoded data removed]",
      "text/plain": [
       "<Figure size 432x288 with 1 Axes>"
      ]
     },
     "metadata": {
      "needs_background": "light"
     },
     "output_type": "display_data"
    }
   ],
   "source": [
    "# --- Boundary Conditions + Solving ---\n",
    "\n",
    "F = np.array([0, 0, 0, 0, 0, -0.01, 0, 0, 0, -0.01, 0, 0])\n",
    "u = np.zeros_like(F)\n",
    "\n",
    "# Omit rows + columns of constrained nodes and solve\n",
    "u[dof*2:] = np.linalg.solve(K_glob[dof*2:, dof*2:], F[dof*2:])\n",
    "\n",
    "u = u.reshape(-1, 2) # Reshape column vector into shape of nodes array\n",
    "\n",
    "plot(nodes, elems, 'b')\n",
    "plot(nodes + u, elems, 'r')\n",
    "plt.show()"
   ]
  }
 ],
 "metadata": {
  "kernelspec": {
   "display_name": "Python 3.9.10 64-bit",
   "language": "python",
   "name": "python3"
  },
  "language_info": {
   "codemirror_mode": {
    "name": "ipython",
    "version": 3
   },
   "file_extension": ".py",
   "mimetype": "text/x-python",
   "name": "python",
   "nbconvert_exporter": "python",
   "pygments_lexer": "ipython3",
   "version": "3.9.10"
  },
  "orig_nbformat": 4,
  "vscode": {
   "interpreter": {
    "hash": "aee8b7b246df8f9039afb4144a1f6fd8d2ca17a180786b69acc140d282b71a49"
   }
  }
 },
 "nbformat": 4,
 "nbformat_minor": 2
}
