{
 "cells": [
  {
   "cell_type": "code",
   "execution_count": 5,
   "metadata": {},
   "outputs": [],
   "source": [
    "import numpy as np\n",
    "import matplotlib.pyplot as plt"
   ]
  },
  {
   "cell_type": "code",
   "execution_count": 20,
   "metadata": {},
   "outputs": [
    {
     "data": {
      "image/png": "[encoded data removed]",
      "text/plain": [
       "<Figure size 432x288 with 1 Axes>"
      ]
     },
     "metadata": {
      "needs_background": "light"
     },
     "output_type": "display_data"
    }
   ],
   "source": [
    "# --- Mesh definition ---\n",
    "\n",
    "l1 = 1\n",
    "\n",
    "n = []\n",
    "for i in range(3):\n",
    "    n.append(np.array([i*l1, 0]))\n",
    "    n.append(np.array([i*l1, l1]))\n",
    "\n",
    "nodes = np.array(n)\n",
    "\n",
    "elems = np.array([\n",
    "    [0, 2],\n",
    "    [1, 2],\n",
    "    [1, 3],\n",
    "    [2, 3],\n",
    "    [2, 4],\n",
    "    [3, 4],\n",
    "    [3, 5],\n",
    "    [4, 5]\n",
    "])\n",
    "\n",
    "\n",
    "def plot(nodes, elems, c):\n",
    "    plt.plot(nodes[:, 0], nodes[:, 1], 'o'+c)\n",
    "    for elem in elems:\n",
    "        pair = np.array([nodes[elem[0]], nodes[elem[1]]])\n",
    "        plt.plot(pair[:, 0], pair[:, 1], '-'+c)\n",
    "\n",
    "plot(nodes, elems, 'b')\n",
    "plt.show()"
   ]
  },
  {
   "cell_type": "code",
   "execution_count": 16,
   "metadata": {},
   "outputs": [
    {
     "name": "stdout",
     "output_type": "stream",
     "text": [
      "[[ 0.53  0.85 -0.85 -0.53]\n",
      " [-0.53 -0.85  0.85  0.53]]\n"
     ]
    }
   ],
   "source": [
    "# --- Element specific stiffness matrix formulation ---\n",
    "# Method of weighted residuals (Galherkin) will generalise this\n",
    "\n",
    "dof = 2 # Node dof\n",
    "\n",
    "def rot(deg: int) -> np.ndarray:\n",
    "\n",
    "    return np.array([\n",
    "        [np.cos(deg), np.sin(deg), 0, 0],\n",
    "        [0, 0, np.sin(deg), np.cos(deg)]\n",
    "        ])\n",
    "\n",
    "K_loc = np.array([\n",
    "    [1, -1],\n",
    "    [-1, 1]\n",
    "])\n",
    "\n",
    "print(np.round(K_loc@rot(45), 2))"
   ]
  },
  {
   "cell_type": "code",
   "execution_count": 19,
   "metadata": {},
   "outputs": [
    {
     "name": "stdout",
     "output_type": "stream",
     "text": [
      "[[ 1.   0.   0.   0.   0.  -1.   0.   0.   0.   0.   0.   0. ]\n",
      " [ 0.   0.   0.   0.   0.   0.   0.   0.   0.   0.   0.   0. ]\n",
      " [ 0.   0.   1.5 -0.5  0.5 -0.5  0.  -1.   0.   0.   0.   0. ]\n",
      " [ 0.   0.  -0.5  0.5 -0.5  0.5  0.   0.   0.   0.   0.   0. ]\n",
      " [ 0.   0.   0.5 -0.5  1.7 -0.9  0.4 -0.2  0.  -1.   0.   0. ]\n",
      " [-1.   0.  -0.5  0.5 -0.9  2.3 -0.8  0.4  0.   0.   0.   0. ]\n",
      " [ 0.   0.   0.   0.   0.4 -0.8  2.3 -0.9  0.5 -0.5  0.  -1. ]\n",
      " [ 0.   0.  -1.   0.  -0.2  0.4 -0.9  1.7 -0.5  0.5  0.   0. ]\n",
      " [ 0.   0.   0.   0.   0.   0.   0.5 -0.5  0.7 -0.9  0.4 -0.2]\n",
      " [ 0.   0.   0.   0.  -1.   0.  -0.5  0.5 -0.9  2.3 -0.8  0.4]\n",
      " [ 0.   0.   0.   0.   0.   0.   0.   0.   0.4 -0.8  0.8 -0.4]\n",
      " [ 0.   0.   0.   0.   0.   0.  -1.   0.  -0.2  0.4 -0.4  1.2]]\n"
     ]
    }
   ],
   "source": [
    "# --- System Assembly ---\n",
    "\n",
    "A, E = 1, 1\n",
    "\n",
    "gdof = dof*len(nodes)\n",
    "K_glob = np.zeros((gdof, gdof))\n",
    "\n",
    "for elem in elems:\n",
    "\n",
    "    v = nodes[elem][0] - nodes[elem][1]\n",
    "\n",
    "    if v[0] == 0:\n",
    "        theta = 90\n",
    "    elif v[1] == 0:\n",
    "        theta = 0\n",
    "    else:\n",
    "        theta = np.arctan(v[0]/[1])[0]\n",
    "\n",
    "    rot_elem = rot(theta)\n",
    "    k_elem_glob = rot_elem.T@K_loc@rot_elem\n",
    "\n",
    "    for a, i in enumerate(elem):\n",
    "        for b, j in enumerate(elem):\n",
    "            K_glob[2*i:2*(i+1), 2*j:2*(j+1)] += k_elem_glob[2*a:2*(a+1), 2*b:2*(b+1)]\n",
    "\n",
    "    K_glob *= A*E\n",
    "\n",
    "print(np.round((K_glob), 2))"
   ]
  },
  {
   "cell_type": "code",
   "execution_count": 12,
   "metadata": {},
   "outputs": [
    {
     "data": {
      "image/png": "[encoded data removed]",
      "text/plain": [
       "<Figure size 432x288 with 1 Axes>"
      ]
     },
     "metadata": {
      "needs_background": "light"
     },
     "output_type": "display_data"
    }
   ],
   "source": [
    "# --- Boundary Conditions + Solving ---\n",
    "\n",
    "F = np.array([0, 0, 0, 0, 0, 0, 0, 0, 0, 0.01, 0, 0])\n",
    "u = np.zeros_like(F)\n",
    "\n",
    "# Omit rows + columns of constrained nodes and solve\n",
    "u[dof*2:] = np.linalg.solve(K_glob[dof*2:, dof*2:], F[dof*2:])\n",
    "\n",
    "u = u.reshape(-1, 2) # Reshape column vector into shape of nodes array\n",
    "\n",
    "plot(nodes, elems, 'b')\n",
    "plot(nodes + u, elems, 'r')\n",
    "plt.show()"
   ]
  }
 ],
 "metadata": {
  "kernelspec": {
   "display_name": "Python 3.9.10 64-bit",
   "language": "python",
   "name": "python3"
  },
  "language_info": {
   "codemirror_mode": {
    "name": "ipython",
    "version": 3
   },
   "file_extension": ".py",
   "mimetype": "text/x-python",
   "name": "python",
   "nbconvert_exporter": "python",
   "pygments_lexer": "ipython3",
   "version": "3.9.10"
  },
  "orig_nbformat": 4,
  "vscode": {
   "interpreter": {
    "hash": "aee8b7b246df8f9039afb4144a1f6fd8d2ca17a180786b69acc140d282b71a49"
   }
  }
 },
 "nbformat": 4,
 "nbformat_minor": 2
}
